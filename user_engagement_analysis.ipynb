{
 "cells": [
  {
   "cell_type": "markdown",
   "id": "70cc7eb3",
   "metadata": {},
   "source": [
    "# User Engagement Analysis on Social Media\n",
    "Analyze user activity and engagement patterns using a timestamped social media dataset."
   ]
  },
  {
   "cell_type": "code",
   "execution_count": null,
   "id": "ff42f106",
   "metadata": {},
   "outputs": [],
   "source": [
    "import pandas as pd\n",
    "import matplotlib.pyplot as plt\n",
    "import seaborn as sns\n",
    "import numpy as np\n",
    "%matplotlib inline"
   ]
  },
  {
   "cell_type": "code",
   "execution_count": null,
   "id": "60963ceb",
   "metadata": {},
   "outputs": [],
   "source": [
    "# Simulate user data\n",
    "df = pd.DataFrame({\n",
    "    'user_id': np.random.choice([f'user_{i}' for i in range(1, 21)], 200),\n",
    "    'post_time': pd.date_range(start='2024-01-01', periods=200, freq='H'),\n",
    "    'likes': np.random.randint(0, 100, 200),\n",
    "    'comments': np.random.randint(0, 20, 200)\n",
    "})\n",
    "df['hour'] = df['post_time'].dt.hour\n",
    "df.head()"
   ]
  },
  {
   "cell_type": "code",
   "execution_count": null,
   "id": "8552c218",
   "metadata": {},
   "outputs": [],
   "source": [
    "# Posts by hour of day\n",
    "hourly_posts = df.groupby('hour').size()\n",
    "hourly_posts.plot(kind='bar', title='Post Frequency by Hour', xlabel='Hour', ylabel='Posts')\n",
    "plt.tight_layout()\n",
    "plt.show()"
   ]
  },
  {
   "cell_type": "code",
   "execution_count": null,
   "id": "28847544",
   "metadata": {},
   "outputs": [],
   "source": [
    "# Top 5 most active users\n",
    "user_activity = df['user_id'].value_counts().head(5)\n",
    "sns.barplot(x=user_activity.index, y=user_activity.values)\n",
    "plt.title('Top 5 Active Users')\n",
    "plt.xlabel('User ID')\n",
    "plt.ylabel('Number of Posts')\n",
    "plt.tight_layout()\n",
    "plt.show()"
   ]
  },
  {
   "cell_type": "code",
   "execution_count": null,
   "id": "2d6bccd4",
   "metadata": {},
   "outputs": [],
   "source": [
    "# Average likes and comments by hour\n",
    "engagement_by_hour = df.groupby('hour')[['likes', 'comments']].mean()\n",
    "engagement_by_hour.plot(title='Avg Likes and Comments by Hour')\n",
    "plt.grid(True)\n",
    "plt.tight_layout()\n",
    "plt.show()"
   ]
  }
 ],
 "metadata": {},
 "nbformat": 4,
 "nbformat_minor": 5
}
